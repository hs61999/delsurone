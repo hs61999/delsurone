{
 "cells": [
  {
   "cell_type": "markdown",
   "metadata": {},
   "source": [
    "# Table with JavaScript\n",
    "> Tool check\n",
    "- toc: true\n",
    "- comments: true\n",
    "- permalink: /list_dict/\n",
    "- image: /images/python_restapi.png\n",
    "- categories: [Jupyter notebook]\n"
   ]
  },
  {
   "cell_type": "markdown",
   "metadata": {},
   "source": [
    "JavaScript"
   ]
  }
 ],
 "metadata": {
  "kernelspec": {
   "display_name": "JavaScript (Node.js)",
   "language": "javascript",
   "name": "javascript"
  },
  "language_info": {
   "file_extension": ".js",
   "mimetype": "application/javascript",
   "name": "javascript",
   "version": "6.11.2"
  },
  "orig_nbformat": 4,
  "vscode": {
   "interpreter": {
    "hash": "38413c7352d00ca776e536fdd6bf32c50daf5e360820a5ce056190588a03dd96"
   }
  }
 },
 "nbformat": 4,
 "nbformat_minor": 2
}
