{
 "cells": [
  {
   "cell_type": "markdown",
   "metadata": {},
   "source": [
    "# List and dictionary\n",
    "> Tool check\n",
    "- toc: true\n",
    "- comments: true\n",
    "- permalink: /list_dict/\n",
    "- image: /images/python_restapi.png\n",
    "- categories: [Jupyter notebook]\n"
   ]
  },
  {
   "cell_type": "markdown",
   "metadata": {},
   "source": [
    "Initial records"
   ]
  },
  {
   "cell_type": "code",
   "execution_count": 1,
   "metadata": {
    "vscode": {
     "languageId": "shellscript"
    }
   },
   "outputs": [],
   "source": [
    "InfoDb = []\n",
    "\n",
    "# InfoDB is a data structure with expected Keys and Values\n",
    "\n",
    "# Append to List a Dictionary of key/values related to a person and cars\n",
    "InfoDb.append({\n",
    "    \"FirstName\": \"John\",\n",
    "    \"LastName\": \"Mortensen\",\n",
    "    \"DOB\": \"October 21\",\n",
    "    \"Residence\": \"San Diego\",\n",
    "    \"Email\": \"jmortensen@powayusd.com\",\n",
    "    \"Owns_Cars\": [\"2015-Fusion\", \"2011-Ranger\", \"2003-Excursion\", \"1997-F350\", \"1969-Cadillac\"]\n",
    "})\n",
    "\n",
    "# Append to List a 2nd Dictionary of key/values\n",
    "InfoDb.append({\n",
    "    \"FirstName\": \"Sunny\",\n",
    "    \"LastName\": \"Naidu\",\n",
    "    \"DOB\": \"August 2\",\n",
    "    \"Residence\": \"Temecula\",\n",
    "    \"Email\": \"snaidu@powayusd.com\",\n",
    "    \"Owns_Cars\": [\"4Runner\"]\n",
    "})"
   ]
  },
  {
   "cell_type": "markdown",
   "metadata": {},
   "source": [
    "Additional record"
   ]
  },
  {
   "cell_type": "code",
   "execution_count": 2,
   "metadata": {
    "vscode": {
     "languageId": "shellscript"
    }
   },
   "outputs": [],
   "source": [
    "InfoDb.append({\n",
    "    \"FirstName\": \"Delsurone\",\n",
    "    \"LastName\": \"K\",\n",
    "    \"DOB\": \"Dec 7\",\n",
    "    \"Residence\": \"San Diego\",\n",
    "    \"Email\": \"delsurone@poway.org\",\n",
    "    \"Owns_Cars\": [\"2016-Honda\", \"2013-Lexus\", \"2003-Toyota\", \"1997-Volvo\", \"1969-GMC\"]\n",
    "})\n",
    "\n",
    "# Append to List a 2nd Dictionary of key/values\n",
    "InfoDb.append({\n",
    "    \"FirstName\": \"Srudeleon\",\n",
    "    \"LastName\": \"K\",\n",
    "    \"DOB\": \"Mar 13\",\n",
    "    \"Residence\": \"Atlanta\",\n",
    "    \"Email\": \"srudeleon@poway.org\",\n",
    "    \"Owns_Cars\": [\"2005-Accura\", \"2012-MINI\"]\n",
    "})"
   ]
  },
  {
   "cell_type": "markdown",
   "metadata": {},
   "source": [
    "Print function"
   ]
  },
  {
   "cell_type": "code",
   "execution_count": 3,
   "metadata": {
    "vscode": {
     "languageId": "shellscript"
    }
   },
   "outputs": [],
   "source": [
    "# print function: given a dictionary of InfoDb content\n",
    "def print_data(d_rec):\n",
    "    print(d_rec[\"FirstName\"], d_rec[\"LastName\"])  # using comma puts space between values\n",
    "    print(\"\\t\", \"Residence:\", d_rec[\"Residence\"]) # \\t is a tab indent\n",
    "    print(\"\\t\", \"Birth Day:\", d_rec[\"DOB\"])\n",
    "    print(\"\\t\", \"Cars: \", end=\"\")  # end=\"\" make sure no return occurs\n",
    "    print(\", \".join(d_rec[\"Owns_Cars\"]))  # join allows printing a string list with separator\n",
    "    print()"
   ]
  },
  {
   "cell_type": "markdown",
   "metadata": {},
   "source": [
    "Print method 1"
   ]
  },
  {
   "cell_type": "code",
   "execution_count": 4,
   "metadata": {
    "vscode": {
     "languageId": "shellscript"
    }
   },
   "outputs": [
    {
     "name": "stdout",
     "output_type": "stream",
     "text": [
      "For loop output\n",
      "\n",
      "John Mortensen\n",
      "\t Residence: San Diego\n",
      "\t Birth Day: October 21\n",
      "\t Cars: 2015-Fusion, 2011-Ranger, 2003-Excursion, 1997-F350, 1969-Cadillac\n",
      "\n",
      "Sunny Naidu\n",
      "\t Residence: Temecula\n",
      "\t Birth Day: August 2\n",
      "\t Cars: 4Runner\n",
      "\n",
      "Delsurone K\n",
      "\t Residence: San Diego\n",
      "\t Birth Day: Dec 7\n",
      "\t Cars: 2016-Honda, 2013-Lexus, 2003-Toyota, 1997-Volvo, 1969-GMC\n",
      "\n",
      "Srudeleon K\n",
      "\t Residence: Atlanta\n",
      "\t Birth Day: Mar 13\n",
      "\t Cars: 2005-Accura, 2012-MINI\n",
      "\n"
     ]
    }
   ],
   "source": [
    "\n",
    "\n",
    "# for loop algorithm iterates on length of InfoDb\n",
    "def for_loop():\n",
    "    print(\"For loop output\\n\")\n",
    "    for record in InfoDb:\n",
    "        print_data(record)\n",
    "\n",
    "for_loop()\n"
   ]
  },
  {
   "cell_type": "markdown",
   "metadata": {},
   "source": [
    "Print method 2"
   ]
  },
  {
   "cell_type": "code",
   "execution_count": 5,
   "metadata": {
    "vscode": {
     "languageId": "shellscript"
    }
   },
   "outputs": [
    {
     "name": "stdout",
     "output_type": "stream",
     "text": [
      "While loop output\n",
      "\n",
      "John Mortensen\n",
      "\t Residence: San Diego\n",
      "\t Birth Day: October 21\n",
      "\t Cars: 2015-Fusion, 2011-Ranger, 2003-Excursion, 1997-F350, 1969-Cadillac\n",
      "\n",
      "Sunny Naidu\n",
      "\t Residence: Temecula\n",
      "\t Birth Day: August 2\n",
      "\t Cars: 4Runner\n",
      "\n",
      "Delsurone K\n",
      "\t Residence: San Diego\n",
      "\t Birth Day: Dec 7\n",
      "\t Cars: 2016-Honda, 2013-Lexus, 2003-Toyota, 1997-Volvo, 1969-GMC\n",
      "\n",
      "Srudeleon K\n",
      "\t Residence: Atlanta\n",
      "\t Birth Day: Mar 13\n",
      "\t Cars: 2005-Accura, 2012-MINI\n",
      "\n"
     ]
    }
   ],
   "source": [
    "\n",
    "# while loop algorithm contains an initial n and an index incrementing statement (n += 1)\n",
    "def while_loop():\n",
    "    print(\"While loop output\\n\")\n",
    "    i = 0\n",
    "    while i < len(InfoDb):\n",
    "        record = InfoDb[i]\n",
    "        print_data(record)\n",
    "        i += 1\n",
    "    return\n",
    "\n",
    "while_loop()\n"
   ]
  },
  {
   "cell_type": "markdown",
   "metadata": {},
   "source": [
    "Print method 3"
   ]
  },
  {
   "cell_type": "code",
   "execution_count": 6,
   "metadata": {
    "vscode": {
     "languageId": "shellscript"
    }
   },
   "outputs": [
    {
     "name": "stdout",
     "output_type": "stream",
     "text": [
      "Recursive loop output\n",
      "\n",
      "John Mortensen\n",
      "\t Residence: San Diego\n",
      "\t Birth Day: October 21\n",
      "\t Cars: 2015-Fusion, 2011-Ranger, 2003-Excursion, 1997-F350, 1969-Cadillac\n",
      "\n",
      "Sunny Naidu\n",
      "\t Residence: Temecula\n",
      "\t Birth Day: August 2\n",
      "\t Cars: 4Runner\n",
      "\n",
      "Delsurone K\n",
      "\t Residence: San Diego\n",
      "\t Birth Day: Dec 7\n",
      "\t Cars: 2016-Honda, 2013-Lexus, 2003-Toyota, 1997-Volvo, 1969-GMC\n",
      "\n",
      "Srudeleon K\n",
      "\t Residence: Atlanta\n",
      "\t Birth Day: Mar 13\n",
      "\t Cars: 2005-Accura, 2012-MINI\n",
      "\n"
     ]
    }
   ],
   "source": [
    "\n",
    "# recursion algorithm loops incrementing on each call (n + 1) until exit condition is met\n",
    "def recursive_loop(i):\n",
    "    if i < len(InfoDb):\n",
    "        record = InfoDb[i]\n",
    "        print_data(record)\n",
    "        recursive_loop(i + 1)\n",
    "    return\n",
    "\n",
    "print(\"Recursive loop output\\n\")    \n",
    "recursive_loop(0)"
   ]
  },
  {
   "cell_type": "markdown",
   "metadata": {},
   "source": [
    "A for loop with an index"
   ]
  },
  {
   "cell_type": "code",
   "execution_count": 7,
   "metadata": {
    "vscode": {
     "languageId": "shellscript"
    }
   },
   "outputs": [
    {
     "name": "stdout",
     "output_type": "stream",
     "text": [
      "For loop output\n",
      "\n",
      "John Mortensen\n",
      "\t Residence: San Diego\n",
      "\t Birth Day: October 21\n",
      "\t Cars: 2015-Fusion, 2011-Ranger, 2003-Excursion, 1997-F350, 1969-Cadillac\n",
      "\n",
      "Sunny Naidu\n",
      "\t Residence: Temecula\n",
      "\t Birth Day: August 2\n",
      "\t Cars: 4Runner\n",
      "\n",
      "Delsurone K\n",
      "\t Residence: San Diego\n",
      "\t Birth Day: Dec 7\n",
      "\t Cars: 2016-Honda, 2013-Lexus, 2003-Toyota, 1997-Volvo, 1969-GMC\n",
      "\n",
      "Srudeleon K\n",
      "\t Residence: Atlanta\n",
      "\t Birth Day: Mar 13\n",
      "\t Cars: 2005-Accura, 2012-MINI\n",
      "\n"
     ]
    }
   ],
   "source": [
    "def for_loop2():\n",
    "    print(\"For loop output\\n\")\n",
    "    for idx in range(len(InfoDb)):\n",
    "        print_data(InfoDb[idx])\n",
    "\n",
    "for_loop2()"
   ]
  },
  {
   "cell_type": "markdown",
   "metadata": {},
   "source": [
    "Output data in a reverse order"
   ]
  },
  {
   "cell_type": "code",
   "execution_count": 8,
   "metadata": {
    "vscode": {
     "languageId": "shellscript"
    }
   },
   "outputs": [
    {
     "name": "stdout",
     "output_type": "stream",
     "text": [
      "For loop output\n",
      "\n",
      "Srudeleon K\n",
      "\t Residence: Atlanta\n",
      "\t Birth Day: Mar 13\n",
      "\t Cars: 2005-Accura, 2012-MINI\n",
      "\n",
      "Delsurone K\n",
      "\t Residence: San Diego\n",
      "\t Birth Day: Dec 7\n",
      "\t Cars: 2016-Honda, 2013-Lexus, 2003-Toyota, 1997-Volvo, 1969-GMC\n",
      "\n",
      "Sunny Naidu\n",
      "\t Residence: Temecula\n",
      "\t Birth Day: August 2\n",
      "\t Cars: 4Runner\n",
      "\n",
      "John Mortensen\n",
      "\t Residence: San Diego\n",
      "\t Birth Day: October 21\n",
      "\t Cars: 2015-Fusion, 2011-Ranger, 2003-Excursion, 1997-F350, 1969-Cadillac\n",
      "\n"
     ]
    }
   ],
   "source": [
    "def for_loop3():\n",
    "    print(\"For loop output\\n\")\n",
    "    for idx in range(len(InfoDb) - 1, -1, -1):\n",
    "        print_data(InfoDb[idx])\n",
    "\n",
    "for_loop3()"
   ]
  },
  {
   "cell_type": "markdown",
   "metadata": {},
   "source": [
    "Create new or add to dictionary data set with input"
   ]
  },
  {
   "cell_type": "code",
   "execution_count": 10,
   "metadata": {
    "vscode": {
     "languageId": "shellscript"
    }
   },
   "outputs": [
    {
     "name": "stdout",
     "output_type": "stream",
     "text": [
      "\n",
      "Please type FirstName\n",
      "Please type LastName\n",
      "Please type SchoolName\n",
      "Please type Grade\n",
      "Do you want to continue?\n",
      "Ok we will stop\n",
      "\n",
      "John Smith\n",
      "\t School Name: DNHS\n",
      "\t Grade: 99.99\n",
      "\n"
     ]
    }
   ],
   "source": [
    "def print_data2(d_rec):\n",
    "    print(d_rec[\"FirstName\"], d_rec[\"LastName\"])  # using comma puts space between values\n",
    "    print(\"\\t\", \"School Name:\", d_rec[\"SchoolName\"]) # \\t is a tab indent\n",
    "    print(\"\\t\", \"Grade:\", d_rec[\"Grade\"])\n",
    "    print()\n",
    "\n",
    "# Keys for new DB\n",
    "NewInfoDbKeys = [\"FirstName\", \"LastName\", \"SchoolName\", \"Grade\"]\n",
    "\n",
    "NewInfoDb = []\n",
    "\n",
    "while (1):\n",
    "    print()\n",
    "    TempDict = {}  # temp dictionary \n",
    "    for Keys in NewInfoDbKeys:\n",
    "        print(\"Please type \" + Keys)\n",
    "        userInput = input()\n",
    "        TempDict[Keys] = userInput\n",
    "    NewInfoDb.append(TempDict)  # add a dictionary  \n",
    "    \n",
    "    # ask user to continue\n",
    "    print(\"Do you want to continue?\")\n",
    "    userInput = input()\n",
    "    if userInput != 'yes':\n",
    "        print(\"Ok we will stop\\n\")\n",
    "        break\n",
    "    else:\n",
    "        print(\"\\nPut next info\")\n",
    "\n",
    "def for_loop4():\n",
    "    for idx in range(len(NewInfoDb)):\n",
    "        print_data2(NewInfoDb[idx])\n",
    "for_loop4()"
   ]
  }
 ],
 "metadata": {
  "kernelspec": {
   "display_name": "Python 3.9.12 ('base')",
   "language": "python",
   "name": "python3"
  },
  "language_info": {
   "codemirror_mode": {
    "name": "ipython",
    "version": 3
   },
   "file_extension": ".py",
   "mimetype": "text/x-python",
   "name": "python",
   "nbconvert_exporter": "python",
   "pygments_lexer": "ipython3",
   "version": "3.9.12"
  },
  "orig_nbformat": 4,
  "vscode": {
   "interpreter": {
    "hash": "38413c7352d00ca776e536fdd6bf32c50daf5e360820a5ce056190588a03dd96"
   }
  }
 },
 "nbformat": 4,
 "nbformat_minor": 2
}
